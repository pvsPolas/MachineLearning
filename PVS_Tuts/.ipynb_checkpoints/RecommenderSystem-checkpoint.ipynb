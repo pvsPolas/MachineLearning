{
 "cells": [
  {
   "cell_type": "code",
   "execution_count": 1,
   "id": "dcce6dfe",
   "metadata": {},
   "outputs": [],
   "source": [
    "# Date: 2121/08/22\n",
    "# Description. I have just finished I finished the first part \"Machine Learning and AI Foundations: Recommendations\" of the course,\n",
    "# but I am not happy that I fully understand what I completed. \n",
    "# So I'm redoing the entire thing again \n",
    "# this time, I'll try some practical examples along the way and see if (with the help of online resources), see if I can build a practical\n",
    "# recommender system that can be used in a project\n",
    "\n",
    "# The idea: build an API"
   ]
  },
  {
   "cell_type": "code",
   "execution_count": null,
   "id": "6d3abef4",
   "metadata": {},
   "outputs": [],
   "source": []
  }
 ],
 "metadata": {
  "kernelspec": {
   "display_name": "Python 3",
   "language": "python",
   "name": "python3"
  },
  "language_info": {
   "codemirror_mode": {
    "name": "ipython",
    "version": 3
   },
   "file_extension": ".py",
   "mimetype": "text/x-python",
   "name": "python",
   "nbconvert_exporter": "python",
   "pygments_lexer": "ipython3",
   "version": "3.8.8"
  }
 },
 "nbformat": 4,
 "nbformat_minor": 5
}
