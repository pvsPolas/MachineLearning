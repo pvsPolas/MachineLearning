{
 "cells": [
  {
   "cell_type": "code",
   "execution_count": 26,
   "id": "f482f082",
   "metadata": {},
   "outputs": [],
   "source": [
    "# scipy provides scientific computing functions\n",
    "# it makes a library of routines available for numeric optimizations\n",
    "import scipy as sp\n",
    "\n",
    "# numpy allows you to work with large numbersets efficiently\n",
    "# it has very efficient array and linear algebra functions\n",
    "# its also open source\n",
    "import numpy as np\n",
    "\n",
    "# pandas let you represent your data as a virtual spreadsheet (think MS Excel) - makes it easy to work with .csv data\n",
    "# pandas is short for \"panel data\"\n",
    "import pandas as pd"
   ]
  },
  {
   "cell_type": "code",
   "execution_count": 27,
   "id": "c635ce87",
   "metadata": {},
   "outputs": [],
   "source": [
    "# create Python array\n",
    "ratings_traditional = [5,2,3,3,4,5,5,1,5,1,3,4]"
   ]
  },
  {
   "cell_type": "code",
   "execution_count": 28,
   "id": "6857e31b",
   "metadata": {},
   "outputs": [
    {
     "name": "stdout",
     "output_type": "stream",
     "text": [
      "Updating ratings_traditional 0\n",
      "Updating ratings_traditional 1\n",
      "Updating ratings_traditional 2\n",
      "Updating ratings_traditional 3\n",
      "Updating ratings_traditional 4\n",
      "Updating ratings_traditional 5\n",
      "Updating ratings_traditional 6\n",
      "Updating ratings_traditional 7\n",
      "Updating ratings_traditional 8\n",
      "Updating ratings_traditional 9\n",
      "Updating ratings_traditional 10\n",
      "Updating ratings_traditional 11\n",
      "[10, 4, 6, 6, 8, 10, 10, 2, 10, 2, 6, 8]\n"
     ]
    }
   ],
   "source": [
    "# in traditional programming, you would enumerate with a forloop for example\n",
    "for i, value in enumerate(ratings_traditional):\n",
    "    print(\"Updating ratings_traditional {}\".format(i))\n",
    "    ratings_traditional[i] = value * 2\n",
    "\n",
    "    \n",
    "print(ratings_traditional)"
   ]
  },
  {
   "cell_type": "code",
   "execution_count": 29,
   "id": "65f54fdf",
   "metadata": {},
   "outputs": [
    {
     "name": "stdout",
     "output_type": "stream",
     "text": [
      "[10  4  6  6  8 10 10  2 10  2  6  8]\n"
     ]
    }
   ],
   "source": [
    "# enumeration with a forloop (as in the previous) is inefficient\n",
    "# we can actually leverage the ability of modern cpu's to crunch numbers in parallel\n",
    "# Single Instruction Multiple Data (SIMD) - instead of looping through each array element one at a time,\n",
    "# the cpu can load chunks of the array into memory, and do all the multiplications of the elements in the array in one step\n",
    "\n",
    "# below, we can use NumPy to create a NumPy array (as opposed to a \"normal\" Python array)\n",
    "ratings = np.array([5,2,3,3,4,5,5,1,5,1,3,4])\n",
    "\n",
    "# multiply the entire array by 2 - NumPy will apply this to each item in the array seperately\n",
    "ratings = ratings * 2\n",
    "\n",
    "# print out  - we get the same result as a forloop, but we have the added benefit of \n",
    "# SIMD that NumPy provides (which makes for faster code execution) - this is called \"Vectorizing\" our code\n",
    "print(ratings)"
   ]
  },
  {
   "cell_type": "code",
   "execution_count": null,
   "id": "4442eeab",
   "metadata": {},
   "outputs": [],
   "source": []
  },
  {
   "cell_type": "code",
   "execution_count": null,
   "id": "caa3db8f",
   "metadata": {},
   "outputs": [],
   "source": []
  }
 ],
 "metadata": {
  "kernelspec": {
   "display_name": "Python 3",
   "language": "python",
   "name": "python3"
  },
  "language_info": {
   "codemirror_mode": {
    "name": "ipython",
    "version": 3
   },
   "file_extension": ".py",
   "mimetype": "text/x-python",
   "name": "python",
   "nbconvert_exporter": "python",
   "pygments_lexer": "ipython3",
   "version": "3.8.8"
  }
 },
 "nbformat": 4,
 "nbformat_minor": 5
}
