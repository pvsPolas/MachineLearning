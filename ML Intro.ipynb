{
 "cells": [
  {
   "cell_type": "code",
   "execution_count": 1,
   "metadata": {},
   "outputs": [
    {
     "ename": "ModuleNotFoundError",
     "evalue": "No module named 'tensorflow'",
     "output_type": "error",
     "traceback": [
      "\u001b[1;31m---------------------------------------------------------------------------\u001b[0m",
      "\u001b[1;31mModuleNotFoundError\u001b[0m                       Traceback (most recent call last)",
      "\u001b[1;32m<ipython-input-1-b91993cd1857>\u001b[0m in \u001b[0;36m<module>\u001b[1;34m\u001b[0m\n\u001b[1;32m----> 1\u001b[1;33m \u001b[1;32mimport\u001b[0m \u001b[0mtensorflow\u001b[0m \u001b[1;32mas\u001b[0m \u001b[0mtf\u001b[0m\u001b[1;33m\u001b[0m\u001b[1;33m\u001b[0m\u001b[0m\n\u001b[0m\u001b[0;32m      2\u001b[0m \u001b[1;32mfrom\u001b[0m \u001b[0mtensorflow\u001b[0m \u001b[1;32mimport\u001b[0m \u001b[0mkeras\u001b[0m\u001b[1;33m\u001b[0m\u001b[1;33m\u001b[0m\u001b[0m\n\u001b[0;32m      3\u001b[0m \u001b[1;32mfrom\u001b[0m \u001b[0mtensorflow\u001b[0m\u001b[1;33m.\u001b[0m\u001b[0mkeras\u001b[0m \u001b[1;32mimport\u001b[0m \u001b[0mlayers\u001b[0m\u001b[1;33m\u001b[0m\u001b[1;33m\u001b[0m\u001b[0m\n\u001b[0;32m      4\u001b[0m \u001b[1;32mfrom\u001b[0m \u001b[0mkeras\u001b[0m\u001b[1;33m.\u001b[0m\u001b[0mlayers\u001b[0m \u001b[1;32mimport\u001b[0m \u001b[0mBatchNormalization\u001b[0m\u001b[1;33m\u001b[0m\u001b[1;33m\u001b[0m\u001b[0m\n\u001b[0;32m      5\u001b[0m \u001b[1;32mfrom\u001b[0m \u001b[0mtensorflow\u001b[0m\u001b[1;33m.\u001b[0m\u001b[0mkeras\u001b[0m\u001b[1;33m.\u001b[0m\u001b[0moptimizers\u001b[0m \u001b[1;32mimport\u001b[0m \u001b[0mAdam\u001b[0m\u001b[1;33m\u001b[0m\u001b[1;33m\u001b[0m\u001b[0m\n",
      "\u001b[1;31mModuleNotFoundError\u001b[0m: No module named 'tensorflow'"
     ]
    }
   ],
   "source": [
    "import tensorflow as tf\n",
    "from tensorflow import keras\n",
    "from tensorflow.keras import layers\n",
    "from keras.layers import BatchNormalization\n",
    "from tensorflow.keras.optimizers import Adam\n",
    "import numpy as np"
   ]
  },
  {
   "cell_type": "code",
   "execution_count": 9,
   "metadata": {},
   "outputs": [],
   "source": [
    "sequence1 = [1,2,3,4,5,6]\n",
    "sequence2 = [3,5,7,9,11,13]"
   ]
  },
  {
   "cell_type": "code",
   "execution_count": 10,
   "metadata": {
    "scrolled": true
   },
   "outputs": [
    {
     "ename": "NameError",
     "evalue": "name 'tf' is not defined",
     "output_type": "error",
     "traceback": [
      "\u001b[1;31m---------------------------------------------------------------------------\u001b[0m",
      "\u001b[1;31mNameError\u001b[0m                                 Traceback (most recent call last)",
      "\u001b[1;32m<ipython-input-10-e4529c2f8540>\u001b[0m in \u001b[0;36m<module>\u001b[1;34m\u001b[0m\n\u001b[1;32m----> 1\u001b[1;33m \u001b[0mtf\u001b[0m\u001b[1;33m.\u001b[0m\u001b[0mkeras\u001b[0m\u001b[1;33m.\u001b[0m\u001b[0mbackend\u001b[0m\u001b[1;33m.\u001b[0m\u001b[0mset_floatx\u001b[0m\u001b[1;33m(\u001b[0m\u001b[1;34m'float64'\u001b[0m\u001b[1;33m)\u001b[0m\u001b[1;33m\u001b[0m\u001b[1;33m\u001b[0m\u001b[0m\n\u001b[0m\u001b[0;32m      2\u001b[0m \u001b[0mtf\u001b[0m\u001b[1;33m.\u001b[0m\u001b[0mkeras\u001b[0m\u001b[1;33m.\u001b[0m\u001b[0mbackend\u001b[0m\u001b[1;33m.\u001b[0m\u001b[0mclear_session\u001b[0m\u001b[1;33m(\u001b[0m\u001b[1;33m)\u001b[0m\u001b[1;33m\u001b[0m\u001b[1;33m\u001b[0m\u001b[0m\n\u001b[0;32m      3\u001b[0m \u001b[0mtf\u001b[0m\u001b[1;33m.\u001b[0m\u001b[0mrandom\u001b[0m\u001b[1;33m.\u001b[0m\u001b[0mset_seed\u001b[0m\u001b[1;33m(\u001b[0m\u001b[1;36m51\u001b[0m\u001b[1;33m)\u001b[0m\u001b[1;33m\u001b[0m\u001b[1;33m\u001b[0m\u001b[0m\n\u001b[0;32m      4\u001b[0m \u001b[0mnp\u001b[0m\u001b[1;33m.\u001b[0m\u001b[0mrandom\u001b[0m\u001b[1;33m.\u001b[0m\u001b[0mseed\u001b[0m\u001b[1;33m(\u001b[0m\u001b[1;36m51\u001b[0m\u001b[1;33m)\u001b[0m\u001b[1;33m\u001b[0m\u001b[1;33m\u001b[0m\u001b[0m\n\u001b[0;32m      5\u001b[0m \u001b[1;33m\u001b[0m\u001b[0m\n",
      "\u001b[1;31mNameError\u001b[0m: name 'tf' is not defined"
     ]
    }
   ],
   "source": [
    "tf.keras.backend.set_floatx('float64')\n",
    "tf.keras.backend.clear_session()\n",
    "tf.random.set_seed(51)\n",
    "np.random.seed(51)\n",
    "\n",
    "shortlist = tf.keras.models.Sequential([\n",
    "    layers.Dense(units=10),\n",
    "    layers.Dense(units=1)\n",
    "])\n",
    "    \n",
    "shortlist.compile(\n",
    "    optimizer=tf.optimizers.Adam(learning_rate=0.01),\n",
    "    loss='mean_absolute_error')\n",
    "\n",
    "shortlist.fit(sequence1, sequence2, \n",
    "                    epochs=30,\n",
    "                    verbose=1)"
   ]
  },
  {
   "cell_type": "code",
   "execution_count": 11,
   "metadata": {},
   "outputs": [
    {
     "ename": "NameError",
     "evalue": "name 'shortlist' is not defined",
     "output_type": "error",
     "traceback": [
      "\u001b[1;31m---------------------------------------------------------------------------\u001b[0m",
      "\u001b[1;31mNameError\u001b[0m                                 Traceback (most recent call last)",
      "\u001b[1;32m<ipython-input-11-fdd69b74d4c4>\u001b[0m in \u001b[0;36m<module>\u001b[1;34m\u001b[0m\n\u001b[1;32m----> 1\u001b[1;33m \u001b[0mshortlist\u001b[0m\u001b[1;33m.\u001b[0m\u001b[0mpredict\u001b[0m\u001b[1;33m(\u001b[0m\u001b[1;33m[\u001b[0m\u001b[1;36m5\u001b[0m\u001b[1;33m]\u001b[0m\u001b[1;33m)\u001b[0m\u001b[1;33m\u001b[0m\u001b[1;33m\u001b[0m\u001b[0m\n\u001b[0m",
      "\u001b[1;31mNameError\u001b[0m: name 'shortlist' is not defined"
     ]
    }
   ],
   "source": [
    "shortlist.predict([5])"
   ]
  },
  {
   "cell_type": "markdown",
   "metadata": {},
   "source": [
    "## More Samples"
   ]
  },
  {
   "cell_type": "code",
   "execution_count": 5,
   "metadata": {},
   "outputs": [],
   "source": [
    "sequence1 = np.random.randint(1,7,100000)"
   ]
  },
  {
   "cell_type": "code",
   "execution_count": 6,
   "metadata": {},
   "outputs": [
    {
     "data": {
      "text/plain": [
       "array([2, 6, 1, 2, 6, 1, 6, 5, 2, 6, 3, 6, 5, 5, 5, 5, 4, 4, 5, 3, 5, 3,\n",
       "       2, 2, 6, 5, 1, 1, 1, 6, 5, 5, 6, 2, 3, 4, 4, 5, 6, 4, 4, 6, 1, 3,\n",
       "       6, 2, 4, 6, 6, 1, 2, 6, 6, 6, 2, 5, 2, 2, 4, 4, 3, 4, 6, 5, 2, 2,\n",
       "       1, 4, 4, 4, 6, 5, 5, 6, 3, 5, 6, 1, 1, 4, 2, 6, 5, 5, 6, 6, 3, 2,\n",
       "       5, 6, 5, 1, 5, 6, 1, 5, 6, 5, 2, 3])"
      ]
     },
     "execution_count": 6,
     "metadata": {},
     "output_type": "execute_result"
    }
   ],
   "source": [
    "sequence1[:100]"
   ]
  },
  {
   "cell_type": "code",
   "execution_count": 7,
   "metadata": {},
   "outputs": [],
   "source": [
    "sequence2 = (sequence1*2)+1"
   ]
  },
  {
   "cell_type": "code",
   "execution_count": 8,
   "metadata": {},
   "outputs": [
    {
     "data": {
      "text/plain": [
       "array([ 5, 13,  3,  5, 13,  3, 13, 11,  5, 13,  7, 13, 11, 11, 11, 11,  9,\n",
       "        9, 11,  7, 11,  7,  5,  5, 13, 11,  3,  3,  3, 13, 11, 11, 13,  5,\n",
       "        7,  9,  9, 11, 13,  9,  9, 13,  3,  7, 13,  5,  9, 13, 13,  3,  5,\n",
       "       13, 13, 13,  5, 11,  5,  5,  9,  9,  7,  9, 13, 11,  5,  5,  3,  9,\n",
       "        9,  9, 13, 11, 11, 13,  7, 11, 13,  3,  3,  9,  5, 13, 11, 11, 13,\n",
       "       13,  7,  5, 11, 13, 11,  3, 11, 13,  3, 11, 13, 11,  5,  7])"
      ]
     },
     "execution_count": 8,
     "metadata": {},
     "output_type": "execute_result"
    }
   ],
   "source": [
    "sequence2[:100]"
   ]
  },
  {
   "cell_type": "code",
   "execution_count": 9,
   "metadata": {
    "scrolled": true
   },
   "outputs": [
    {
     "name": "stdout",
     "output_type": "stream",
     "text": [
      "Epoch 1/30\n",
      "3125/3125 [==============================] - 2s 431us/step - loss: 0.3469\n",
      "Epoch 2/30\n",
      "3125/3125 [==============================] - 1s 428us/step - loss: 0.0321\n",
      "Epoch 3/30\n",
      "3125/3125 [==============================] - 1s 423us/step - loss: 0.0347\n",
      "Epoch 4/30\n",
      "3125/3125 [==============================] - 1s 420us/step - loss: 0.0303\n",
      "Epoch 5/30\n",
      "3125/3125 [==============================] - 1s 421us/step - loss: 0.0340\n",
      "Epoch 6/30\n",
      "3125/3125 [==============================] - 1s 418us/step - loss: 0.0325\n",
      "Epoch 7/30\n",
      "3125/3125 [==============================] - 1s 423us/step - loss: 0.0284\n",
      "Epoch 8/30\n",
      "3125/3125 [==============================] - 1s 419us/step - loss: 0.0265\n",
      "Epoch 9/30\n",
      "3125/3125 [==============================] - 1s 423us/step - loss: 0.0314\n",
      "Epoch 10/30\n",
      "3125/3125 [==============================] - 1s 430us/step - loss: 0.0295\n",
      "Epoch 11/30\n",
      "3125/3125 [==============================] - 1s 428us/step - loss: 0.0285\n",
      "Epoch 12/30\n",
      "3125/3125 [==============================] - 1s 424us/step - loss: 0.0310\n",
      "Epoch 13/30\n",
      "3125/3125 [==============================] - 1s 430us/step - loss: 0.0293\n",
      "Epoch 14/30\n",
      "3125/3125 [==============================] - 1s 424us/step - loss: 0.0270\n",
      "Epoch 15/30\n",
      "3125/3125 [==============================] - 1s 420us/step - loss: 0.0249\n",
      "Epoch 16/30\n",
      "3125/3125 [==============================] - 1s 433us/step - loss: 0.0250\n",
      "Epoch 17/30\n",
      "3125/3125 [==============================] - 1s 429us/step - loss: 0.0223\n",
      "Epoch 18/30\n",
      "3125/3125 [==============================] - 1s 433us/step - loss: 0.0242\n",
      "Epoch 19/30\n",
      "3125/3125 [==============================] - 1s 432us/step - loss: 0.0226\n",
      "Epoch 20/30\n",
      "3125/3125 [==============================] - 1s 427us/step - loss: 0.0226\n",
      "Epoch 21/30\n",
      "3125/3125 [==============================] - 1s 430us/step - loss: 0.0196\n",
      "Epoch 22/30\n",
      "3125/3125 [==============================] - 1s 426us/step - loss: 0.0164\n",
      "Epoch 23/30\n",
      "3125/3125 [==============================] - 1s 422us/step - loss: 0.0146\n",
      "Epoch 24/30\n",
      "3125/3125 [==============================] - 1s 431us/step - loss: 0.0162\n",
      "Epoch 25/30\n",
      "3125/3125 [==============================] - 1s 428us/step - loss: 0.0153\n",
      "Epoch 26/30\n",
      "3125/3125 [==============================] - 1s 432us/step - loss: 0.0148\n",
      "Epoch 27/30\n",
      "3125/3125 [==============================] - 1s 431us/step - loss: 0.0142\n",
      "Epoch 28/30\n",
      "3125/3125 [==============================] - 1s 430us/step - loss: 0.0145\n",
      "Epoch 29/30\n",
      "3125/3125 [==============================] - 1s 427us/step - loss: 0.0142\n",
      "Epoch 30/30\n",
      "3125/3125 [==============================] - 1s 424us/step - loss: 0.0121\n"
     ]
    },
    {
     "data": {
      "text/plain": [
       "<tensorflow.python.keras.callbacks.History at 0x243e1e61280>"
      ]
     },
     "execution_count": 9,
     "metadata": {},
     "output_type": "execute_result"
    }
   ],
   "source": [
    "tf.keras.backend.set_floatx('float64')\n",
    "tf.keras.backend.clear_session()\n",
    "tf.random.set_seed(51)\n",
    "np.random.seed(51)\n",
    "\n",
    "moresamples = tf.keras.models.Sequential([\n",
    "    layers.Dense(units=10),\n",
    "    layers.Dense(units=1)\n",
    "])\n",
    "    \n",
    "moresamples.compile(\n",
    "    optimizer=tf.optimizers.Adam(learning_rate=0.01),\n",
    "    loss='mean_absolute_error')\n",
    "\n",
    "moresamples.fit(sequence1, sequence2, \n",
    "                    epochs=30,\n",
    "                    verbose=1)"
   ]
  },
  {
   "cell_type": "code",
   "execution_count": 10,
   "metadata": {},
   "outputs": [],
   "source": [
    "x = 1"
   ]
  },
  {
   "cell_type": "code",
   "execution_count": 11,
   "metadata": {},
   "outputs": [
    {
     "name": "stdout",
     "output_type": "stream",
     "text": [
      "Actual: 3\n",
      "Shortlist pred: 3.374784950548701\n",
      "Error: 0.3748\n",
      "More samples pred: 2.999915784405493\n",
      "Error: 0.0001\n"
     ]
    }
   ],
   "source": [
    "actual = (x*2)+1\n",
    "print('Actual: ' + str(actual))\n",
    "print('Shortlist pred: ' + str(shortlist.predict([x])[0][0]))\n",
    "print('Error: ' + str(np.round(abs(shortlist.predict([x])[0][0]-actual),4)))\n",
    "print('More samples pred: ' + str(moresamples.predict([x])[0][0]))\n",
    "print('Error: ' + str(np.round(abs(moresamples.predict([x])[0][0]-actual),4)))"
   ]
  },
  {
   "cell_type": "markdown",
   "metadata": {},
   "source": [
    "### Now evaluate a number that the model has not seen and notice the difference in the error between the models with sparse samples"
   ]
  },
  {
   "cell_type": "code",
   "execution_count": 12,
   "metadata": {},
   "outputs": [],
   "source": [
    "x = 100"
   ]
  },
  {
   "cell_type": "code",
   "execution_count": 13,
   "metadata": {},
   "outputs": [
    {
     "name": "stdout",
     "output_type": "stream",
     "text": [
      "Actual: 201\n",
      "Shortlist pred: 186.48251251818218\n",
      "Error: 14.5175\n",
      "More samples pred: 201.4359882060839\n",
      "Error: 0.436\n"
     ]
    }
   ],
   "source": [
    "actual = (x*2)+1\n",
    "print('Actual: ' + str(actual))\n",
    "print('Shortlist pred: ' + str(shortlist.predict([x])[0][0]))\n",
    "print('Error: ' + str(np.round(abs(shortlist.predict([x])[0][0]-actual),4)))\n",
    "print('More samples pred: ' + str(moresamples.predict([x])[0][0]))\n",
    "print('Error: ' + str(np.round(abs(moresamples.predict([x])[0][0]-actual),4)))"
   ]
  }
 ],
 "metadata": {
  "kernelspec": {
   "display_name": "Python 3",
   "language": "python",
   "name": "python3"
  },
  "language_info": {
   "codemirror_mode": {
    "name": "ipython",
    "version": 3
   },
   "file_extension": ".py",
   "mimetype": "text/x-python",
   "name": "python",
   "nbconvert_exporter": "python",
   "pygments_lexer": "ipython3",
   "version": "3.8.8"
  }
 },
 "nbformat": 4,
 "nbformat_minor": 4
}
